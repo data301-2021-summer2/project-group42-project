{
 "cells": [
  {
   "cell_type": "markdown",
   "id": "a0ce8af2-9bd1-4d1e-b792-47bc816fee7b",
   "metadata": {},
   "source": [
    "# Milestone 2"
   ]
  },
  {
   "cell_type": "code",
   "execution_count": 73,
   "id": "db68eff4-34b5-4517-9b9e-f8ce72f0eb11",
   "metadata": {},
   "outputs": [],
   "source": [
    "### imports\n",
    "\n",
    "import pandas as pd\n",
    "import seaborn as sns\n",
    "import numpy as np\n",
    "import os\n",
    "import matplotlib.pyplot as plt\n",
    "import statistics as stat"
   ]
  },
  {
   "cell_type": "markdown",
   "id": "a095d545-9126-4860-86ba-fcdfa1b54a9a",
   "metadata": {},
   "source": [
    "## Task 1: Analysis Pipeline\n",
    "\n",
    "Central question for data: What is the relationship between having children and increased medical costs. How does this relationship change as the number of children changes?\n",
    "\n",
    "From this question, the pertinent information is: cost, children."
   ]
  },
  {
   "cell_type": "markdown",
   "id": "50158914-9d18-439b-8517-8cb6ac685fba",
   "metadata": {},
   "source": [
    "### Loading Data"
   ]
  },
  {
   "cell_type": "code",
   "execution_count": 74,
   "id": "f0cfc18d-26d2-44c7-ab48-e62e1a334e42",
   "metadata": {},
   "outputs": [
    {
     "data": {
      "text/html": [
       "<div>\n",
       "<style scoped>\n",
       "    .dataframe tbody tr th:only-of-type {\n",
       "        vertical-align: middle;\n",
       "    }\n",
       "\n",
       "    .dataframe tbody tr th {\n",
       "        vertical-align: top;\n",
       "    }\n",
       "\n",
       "    .dataframe thead th {\n",
       "        text-align: right;\n",
       "    }\n",
       "</style>\n",
       "<table border=\"1\" class=\"dataframe\">\n",
       "  <thead>\n",
       "    <tr style=\"text-align: right;\">\n",
       "      <th></th>\n",
       "      <th>age</th>\n",
       "      <th>sex</th>\n",
       "      <th>bmi</th>\n",
       "      <th>children</th>\n",
       "      <th>smoker</th>\n",
       "      <th>region</th>\n",
       "      <th>charges</th>\n",
       "    </tr>\n",
       "  </thead>\n",
       "  <tbody>\n",
       "    <tr>\n",
       "      <th>0</th>\n",
       "      <td>19</td>\n",
       "      <td>female</td>\n",
       "      <td>27.900</td>\n",
       "      <td>0</td>\n",
       "      <td>yes</td>\n",
       "      <td>southwest</td>\n",
       "      <td>16884.92400</td>\n",
       "    </tr>\n",
       "    <tr>\n",
       "      <th>1</th>\n",
       "      <td>18</td>\n",
       "      <td>male</td>\n",
       "      <td>33.770</td>\n",
       "      <td>1</td>\n",
       "      <td>no</td>\n",
       "      <td>southeast</td>\n",
       "      <td>1725.55230</td>\n",
       "    </tr>\n",
       "    <tr>\n",
       "      <th>2</th>\n",
       "      <td>28</td>\n",
       "      <td>male</td>\n",
       "      <td>33.000</td>\n",
       "      <td>3</td>\n",
       "      <td>no</td>\n",
       "      <td>southeast</td>\n",
       "      <td>4449.46200</td>\n",
       "    </tr>\n",
       "    <tr>\n",
       "      <th>3</th>\n",
       "      <td>33</td>\n",
       "      <td>male</td>\n",
       "      <td>22.705</td>\n",
       "      <td>0</td>\n",
       "      <td>no</td>\n",
       "      <td>northwest</td>\n",
       "      <td>21984.47061</td>\n",
       "    </tr>\n",
       "    <tr>\n",
       "      <th>4</th>\n",
       "      <td>32</td>\n",
       "      <td>male</td>\n",
       "      <td>28.880</td>\n",
       "      <td>0</td>\n",
       "      <td>no</td>\n",
       "      <td>northwest</td>\n",
       "      <td>3866.85520</td>\n",
       "    </tr>\n",
       "  </tbody>\n",
       "</table>\n",
       "</div>"
      ],
      "text/plain": [
       "   age     sex     bmi  children smoker     region      charges\n",
       "0   19  female  27.900         0    yes  southwest  16884.92400\n",
       "1   18    male  33.770         1     no  southeast   1725.55230\n",
       "2   28    male  33.000         3     no  southeast   4449.46200\n",
       "3   33    male  22.705         0     no  northwest  21984.47061\n",
       "4   32    male  28.880         0     no  northwest   3866.85520"
      ]
     },
     "execution_count": 74,
     "metadata": {},
     "output_type": "execute_result"
    }
   ],
   "source": [
    "data = pd.read_csv('insurance.csv')\n",
    "pd.DataFrame.head(data)"
   ]
  },
  {
   "cell_type": "markdown",
   "id": "5dfbee2e-0129-431d-a830-431ee0d6bb05",
   "metadata": {},
   "source": [
    "File type: Comma Seperated Values (csv)\n",
    "\n",
    "Delimiters: commas\n",
    "\n",
    "Skip columns? not neccessary\n",
    "\n",
    "Skip rows?"
   ]
  },
  {
   "cell_type": "code",
   "execution_count": 75,
   "id": "fd1bcaf7-94a3-411f-8fb9-5ee7e83ea1b8",
   "metadata": {},
   "outputs": [
    {
     "data": {
      "text/plain": [
       "(array([], dtype=int64), array([], dtype=int64))"
      ]
     },
     "execution_count": 75,
     "metadata": {},
     "output_type": "execute_result"
    }
   ],
   "source": [
    "# checking for null rows in data frame\n",
    "np.where(pd.isnull(df))"
   ]
  },
  {
   "cell_type": "markdown",
   "id": "5dfc676e-977d-4d9f-a3bf-e1345fc383fe",
   "metadata": {},
   "source": [
    "No null values in csv therfore skip rows not neccessary."
   ]
  },
  {
   "cell_type": "markdown",
   "id": "9e64f091-bcf3-49c7-99a4-4b3e63c29eea",
   "metadata": {},
   "source": [
    "### Clean Data"
   ]
  },
  {
   "cell_type": "markdown",
   "id": "38b6e33e-cbd2-4170-80e3-c46c40f23a60",
   "metadata": {},
   "source": [
    "No missing data. \n",
    "\n",
    "Considering the central question, only the columns of children and charges are neccessary.\n",
    "In order to keep some intergrity in our data we will look at non-smokers in the age range of 25 and up. We are eliminating people under 25 on the asumption that people under 25 are less likely to have children and will therefore skew the data. Smokers are eliminated because The relationship between smoking and number of children is not known and we do not want to effect our data with unknown relationships. We will perform analysis for both sexes."
   ]
  },
  {
   "cell_type": "code",
   "execution_count": 76,
   "id": "7d5d2954-e42d-436f-8334-9e1b21eb71fe",
   "metadata": {},
   "outputs": [
    {
     "data": {
      "text/html": [
       "<div>\n",
       "<style scoped>\n",
       "    .dataframe tbody tr th:only-of-type {\n",
       "        vertical-align: middle;\n",
       "    }\n",
       "\n",
       "    .dataframe tbody tr th {\n",
       "        vertical-align: top;\n",
       "    }\n",
       "\n",
       "    .dataframe thead th {\n",
       "        text-align: right;\n",
       "    }\n",
       "</style>\n",
       "<table border=\"1\" class=\"dataframe\">\n",
       "  <thead>\n",
       "    <tr style=\"text-align: right;\">\n",
       "      <th></th>\n",
       "      <th>age</th>\n",
       "      <th>sex</th>\n",
       "      <th>children</th>\n",
       "      <th>smoker</th>\n",
       "      <th>charges</th>\n",
       "    </tr>\n",
       "  </thead>\n",
       "  <tbody>\n",
       "    <tr>\n",
       "      <th>2</th>\n",
       "      <td>28</td>\n",
       "      <td>male</td>\n",
       "      <td>3</td>\n",
       "      <td>no</td>\n",
       "      <td>4449.46200</td>\n",
       "    </tr>\n",
       "    <tr>\n",
       "      <th>3</th>\n",
       "      <td>33</td>\n",
       "      <td>male</td>\n",
       "      <td>0</td>\n",
       "      <td>no</td>\n",
       "      <td>21984.47061</td>\n",
       "    </tr>\n",
       "    <tr>\n",
       "      <th>4</th>\n",
       "      <td>32</td>\n",
       "      <td>male</td>\n",
       "      <td>0</td>\n",
       "      <td>no</td>\n",
       "      <td>3866.85520</td>\n",
       "    </tr>\n",
       "    <tr>\n",
       "      <th>5</th>\n",
       "      <td>31</td>\n",
       "      <td>female</td>\n",
       "      <td>0</td>\n",
       "      <td>no</td>\n",
       "      <td>3756.62160</td>\n",
       "    </tr>\n",
       "    <tr>\n",
       "      <th>6</th>\n",
       "      <td>46</td>\n",
       "      <td>female</td>\n",
       "      <td>1</td>\n",
       "      <td>no</td>\n",
       "      <td>8240.58960</td>\n",
       "    </tr>\n",
       "  </tbody>\n",
       "</table>\n",
       "</div>"
      ],
      "text/plain": [
       "   age     sex  children smoker      charges\n",
       "2   28    male         3     no   4449.46200\n",
       "3   33    male         0     no  21984.47061\n",
       "4   32    male         0     no   3866.85520\n",
       "5   31  female         0     no   3756.62160\n",
       "6   46  female         1     no   8240.58960"
      ]
     },
     "execution_count": 76,
     "metadata": {},
     "output_type": "execute_result"
    }
   ],
   "source": [
    "# removing superfluous columns\n",
    "del data['bmi']\n",
    "del data['region']\n",
    "\n",
    "# removing smokers\n",
    "data = data[data['smoker'] == 'no']\n",
    "\n",
    "# selecting for age > 25\n",
    "data = data[data['age'] > 25]\n",
    "\n",
    "pd.DataFrame.head(data)\n",
    "\n"
   ]
  },
  {
   "cell_type": "markdown",
   "id": "1e885947-8a8b-4658-8b3c-ecc5a8fbf093",
   "metadata": {},
   "source": [
    "checking for 'incorrect' data.\n",
    "\n",
    "lets check max number of children to make sure theres no outliers that will squew the data"
   ]
  },
  {
   "cell_type": "code",
   "execution_count": 77,
   "id": "f33448a5-db40-4d0e-8ba1-035b6bef460b",
   "metadata": {},
   "outputs": [
    {
     "name": "stdout",
     "output_type": "stream",
     "text": [
      "5\n"
     ]
    }
   ],
   "source": [
    "print(max(data['children']))"
   ]
  },
  {
   "cell_type": "markdown",
   "id": "0abca262-c6ae-45a8-bed2-fe7267a27478",
   "metadata": {},
   "source": [
    "5 is a realistic number.\n",
    "\n",
    "Now well do the same for charges.\n"
   ]
  },
  {
   "cell_type": "code",
   "execution_count": 78,
   "id": "fdaf9950-6e27-4e61-99b4-62882403f78a",
   "metadata": {},
   "outputs": [
    {
     "name": "stdout",
     "output_type": "stream",
     "text": [
      "36910.60803\n"
     ]
    }
   ],
   "source": [
    "print(max(data[\"charges\"]))"
   ]
  },
  {
   "cell_type": "markdown",
   "id": "09afd389-7a2d-4688-bb43-ca8c792a080a",
   "metadata": {},
   "source": [
    "We get roughly $37 thousand. Again this seems realistic."
   ]
  },
  {
   "cell_type": "code",
   "execution_count": 85,
   "id": "2075e335-bf65-4eca-939b-c6f33366d0d0",
   "metadata": {},
   "outputs": [
    {
     "data": {
      "text/plain": [
       "823"
      ]
     },
     "execution_count": 85,
     "metadata": {},
     "output_type": "execute_result"
    }
   ],
   "source": [
    "len(data)"
   ]
  },
  {
   "cell_type": "markdown",
   "id": "aaf5d6d4-63b0-4135-8ed4-35cb51f1dc89",
   "metadata": {},
   "source": [
    "We have cleaned our data and we still have over 800 rows of good clean data."
   ]
  },
  {
   "cell_type": "markdown",
   "id": "33fa7e21-6bac-4b16-ba07-db2e322ae164",
   "metadata": {},
   "source": [
    "### Process Data"
   ]
  },
  {
   "cell_type": "markdown",
   "id": "88edb923-2430-427b-8629-a006b48afd4b",
   "metadata": {},
   "source": [
    "Lets take another look at outliers. First lets take a quick look at the dataset."
   ]
  },
  {
   "cell_type": "code",
   "execution_count": 82,
   "id": "d0e23ac8-5cf6-4ea7-bd71-ee481ddc6a59",
   "metadata": {},
   "outputs": [
    {
     "name": "stderr",
     "output_type": "stream",
     "text": [
      "/Users/seanripley/opt/miniconda3/lib/python3.8/site-packages/seaborn/axisgrid.py:49: MatplotlibDeprecationWarning: Case-insensitive properties were deprecated in 3.3 and support will be removed two minor releases later\n",
      "  ax.set(**kwargs)\n"
     ]
    },
    {
     "data": {
      "text/plain": [
       "<seaborn.axisgrid.FacetGrid at 0x1452d17c0>"
      ]
     },
     "execution_count": 82,
     "metadata": {},
     "output_type": "execute_result"
    },
    {
     "data": {
      "image/png": "[encoded data removed]",
      "text/plain": [
       "<Figure size 360x360 with 1 Axes>"
      ]
     },
     "metadata": {
      "needs_background": "light"
     },
     "output_type": "display_data"
    }
   ],
   "source": [
    "# Graphic of charges to identify outliers\n",
    "sns.displot(data = data ,  palette = \"colorblind\" , x = \"charges\" , bins = 70).set(\n",
    "            Title = \"medical charges from data\" , \n",
    "            xlabel = 'dollars')"
   ]
  },
  {
   "cell_type": "markdown",
   "id": "b0ba6a0d-ad1a-4f76-b943-92991f735c09",
   "metadata": {},
   "source": [
    "The data seems to be weighted alot more to around the 10k range but the data up to 36k still looks fair and valid."
   ]
  },
  {
   "cell_type": "code",
   "execution_count": 81,
   "id": "87fc1432-af4a-428e-bce5-69af20bf7e9e",
   "metadata": {},
   "outputs": [
    {
     "name": "stderr",
     "output_type": "stream",
     "text": [
      "/Users/seanripley/opt/miniconda3/lib/python3.8/site-packages/seaborn/axisgrid.py:49: MatplotlibDeprecationWarning: Case-insensitive properties were deprecated in 3.3 and support will be removed two minor releases later\n",
      "  ax.set(**kwargs)\n"
     ]
    },
    {
     "data": {
      "text/plain": [
       "<seaborn.axisgrid.FacetGrid at 0x144d7c970>"
      ]
     },
     "execution_count": 81,
     "metadata": {},
     "output_type": "execute_result"
    },
    {
     "data": {
      "image/png": "[encoded data removed]",
      "text/plain": [
       "<Figure size 360x360 with 1 Axes>"
      ]
     },
     "metadata": {
      "needs_background": "light"
     },
     "output_type": "display_data"
    }
   ],
   "source": [
    "# graphic of age\n",
    "sns.displot(data = data ,  palette = \"colorblind\" , x = \"age\" , bins = 50).set(\n",
    "            Title = \"age from data\" , \n",
    "            xlabel = 'years')"
   ]
  },
  {
   "cell_type": "code",
   "execution_count": null,
   "id": "a3fe7b20-5b8b-419d-8c2d-7f36254571e6",
   "metadata": {},
   "outputs": [],
   "source": []
  },
  {
   "cell_type": "markdown",
   "id": "b22b27d3-5b06-4d19-a45f-7f77a3a3107d",
   "metadata": {},
   "source": [
    "Looks like we have a good even distribution of age."
   ]
  },
  {
   "cell_type": "markdown",
   "id": "79bc7b71-8791-4e08-b47c-ec1196704a54",
   "metadata": {},
   "source": [
    "No unacceptable outliers."
   ]
  },
  {
   "cell_type": "code",
   "execution_count": 89,
   "id": "d0a78df6-d2b0-4cf8-aad2-7d2239461ea9",
   "metadata": {},
   "outputs": [
    {
     "data": {
      "text/html": [
       "<div>\n",
       "<style scoped>\n",
       "    .dataframe tbody tr th:only-of-type {\n",
       "        vertical-align: middle;\n",
       "    }\n",
       "\n",
       "    .dataframe tbody tr th {\n",
       "        vertical-align: top;\n",
       "    }\n",
       "\n",
       "    .dataframe thead th {\n",
       "        text-align: right;\n",
       "    }\n",
       "</style>\n",
       "<table border=\"1\" class=\"dataframe\">\n",
       "  <thead>\n",
       "    <tr style=\"text-align: right;\">\n",
       "      <th></th>\n",
       "      <th>age</th>\n",
       "      <th>sex</th>\n",
       "      <th>children</th>\n",
       "      <th>smoker</th>\n",
       "      <th>charges</th>\n",
       "    </tr>\n",
       "  </thead>\n",
       "  <tbody>\n",
       "    <tr>\n",
       "      <th>2</th>\n",
       "      <td>28</td>\n",
       "      <td>male</td>\n",
       "      <td>3</td>\n",
       "      <td>0</td>\n",
       "      <td>4449.46200</td>\n",
       "    </tr>\n",
       "    <tr>\n",
       "      <th>3</th>\n",
       "      <td>33</td>\n",
       "      <td>male</td>\n",
       "      <td>0</td>\n",
       "      <td>0</td>\n",
       "      <td>21984.47061</td>\n",
       "    </tr>\n",
       "    <tr>\n",
       "      <th>4</th>\n",
       "      <td>32</td>\n",
       "      <td>male</td>\n",
       "      <td>0</td>\n",
       "      <td>0</td>\n",
       "      <td>3866.85520</td>\n",
       "    </tr>\n",
       "    <tr>\n",
       "      <th>5</th>\n",
       "      <td>31</td>\n",
       "      <td>female</td>\n",
       "      <td>0</td>\n",
       "      <td>0</td>\n",
       "      <td>3756.62160</td>\n",
       "    </tr>\n",
       "    <tr>\n",
       "      <th>6</th>\n",
       "      <td>46</td>\n",
       "      <td>female</td>\n",
       "      <td>1</td>\n",
       "      <td>0</td>\n",
       "      <td>8240.58960</td>\n",
       "    </tr>\n",
       "  </tbody>\n",
       "</table>\n",
       "</div>"
      ],
      "text/plain": [
       "   age     sex  children  smoker      charges\n",
       "2   28    male         3       0   4449.46200\n",
       "3   33    male         0       0  21984.47061\n",
       "4   32    male         0       0   3866.85520\n",
       "5   31  female         0       0   3756.62160\n",
       "6   46  female         1       0   8240.58960"
      ]
     },
     "execution_count": 89,
     "metadata": {},
     "output_type": "execute_result"
    }
   ],
   "source": [
    "# making our smokers column numerical\n",
    "\n",
    "data = data.replace(to_replace = 'yes' , value = 1)\n",
    "data = data.replace(to_replace = 'no', value = 0)\n",
    "\n",
    "pd.DataFrame.head(data)"
   ]
  },
  {
   "cell_type": "markdown",
   "id": "c4bb8fd9-f75c-4603-9208-1a99d9e79439",
   "metadata": {},
   "source": [
    "No other data processing to do.\n",
    "\n"
   ]
  },
  {
   "cell_type": "markdown",
   "id": "65734b93-c7b5-414c-ad84-0b73259cd840",
   "metadata": {},
   "source": [
    "### Wrangle Data"
   ]
  },
  {
   "cell_type": "code",
   "execution_count": 90,
   "id": "63e40c8b-b228-4f76-bcc0-e08f618277bf",
   "metadata": {},
   "outputs": [
    {
     "name": "stdout",
     "output_type": "stream",
     "text": [
      "      age     sex  children  smoker      charges\n",
      "2      28    male         3       0   4449.46200\n",
      "3      33    male         0       0  21984.47061\n",
      "4      32    male         0       0   3866.85520\n",
      "5      31  female         0       0   3756.62160\n",
      "6      46  female         1       0   8240.58960\n",
      "...   ...     ...       ...     ...          ...\n",
      "1327   51    male         1       0   9377.90470\n",
      "1329   52    male         2       0  10325.20600\n",
      "1330   57  female         2       0  12629.16560\n",
      "1332   52  female         3       0  11411.68500\n",
      "1333   50    male         3       0  10600.54830\n",
      "\n",
      "[823 rows x 5 columns]\n"
     ]
    }
   ],
   "source": [
    "print(data)"
   ]
  },
  {
   "cell_type": "markdown",
   "id": "d1f5bf56-720c-428e-b817-20ebe50b49d8",
   "metadata": {},
   "source": [
    "Due to the deletion and changing of data we need to re index the rows."
   ]
  },
  {
   "cell_type": "code",
   "execution_count": 105,
   "id": "af0172a8-b78a-4495-bc47-15417b66afeb",
   "metadata": {},
   "outputs": [
    {
     "name": "stdout",
     "output_type": "stream",
     "text": [
      "     age     sex  children  smoker      charges\n",
      "0     28    male         3       0   4449.46200\n",
      "1     33    male         0       0  21984.47061\n",
      "2     32    male         0       0   3866.85520\n",
      "3     31  female         0       0   3756.62160\n",
      "4     46  female         1       0   8240.58960\n",
      "..   ...     ...       ...     ...          ...\n",
      "818   51    male         1       0   9377.90470\n",
      "819   52    male         2       0  10325.20600\n",
      "820   57  female         2       0  12629.16560\n",
      "821   52  female         3       0  11411.68500\n",
      "822   50    male         3       0  10600.54830\n",
      "\n",
      "[823 rows x 5 columns]\n"
     ]
    }
   ],
   "source": [
    "# reindexing data\n",
    "data = data.reset_index()\n",
    "\n",
    "del data['index']\n",
    "\n",
    "print(data)"
   ]
  },
  {
   "cell_type": "markdown",
   "id": "476d51a7-d849-402e-bb7a-274113a64e17",
   "metadata": {},
   "source": [
    "Dataset is now indexed properly.\n"
   ]
  },
  {
   "cell_type": "markdown",
   "id": "184faff7-f0ea-4df8-a3ff-dbb7f3880fad",
   "metadata": {},
   "source": []
  },
  {
   "cell_type": "code",
   "execution_count": null,
   "id": "932deaf7-6bcb-4e9d-9555-ecd2b39f728e",
   "metadata": {},
   "outputs": [],
   "source": []
  }
 ],
 "metadata": {
  "kernelspec": {
   "display_name": "Python 3 (ipykernel)",
   "language": "python",
   "name": "python3"
  },
  "language_info": {
   "codemirror_mode": {
    "name": "ipython",
    "version": 3
   },
   "file_extension": ".py",
   "mimetype": "text/x-python",
   "name": "python",
   "nbconvert_exporter": "python",
   "pygments_lexer": "ipython3",
   "version": "3.8.5"
  }
 },
 "nbformat": 4,
 "nbformat_minor": 5
}
