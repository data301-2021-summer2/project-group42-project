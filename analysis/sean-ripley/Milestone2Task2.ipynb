{
 "cells": [
  {
   "cell_type": "markdown",
   "id": "6e3dc4d1-4e51-4d05-9731-698e78775f4d",
   "metadata": {},
   "source": [
    "# Task 2: Step 3"
   ]
  },
  {
   "cell_type": "code",
   "execution_count": 2,
   "id": "f44dcba0-8a1c-4a5d-b3c4-c05b45722674",
   "metadata": {},
   "outputs": [],
   "source": [
    "from scripts import project_functions"
   ]
  },
  {
   "cell_type": "code",
   "execution_count": 3,
   "id": "5beccfa3-16bf-4c2f-ba38-0e60d0dfc7fd",
   "metadata": {},
   "outputs": [
    {
     "name": "stderr",
     "output_type": "stream",
     "text": [
      "/Users/seanripley/Desktop/ubc/2021S/DATA301/project-group42-project/analysis/sean-ripley/scripts/project_functions.py:18: UserWarning: Boolean Series key will be reindexed to match DataFrame index.\n",
      "  data\n"
     ]
    }
   ],
   "source": [
    "data = project_functions.load_n_wrangle('insurance.csv')"
   ]
  },
  {
   "cell_type": "code",
   "execution_count": 4,
   "id": "5ba628f0-5521-44c8-83f9-6447098b16f3",
   "metadata": {},
   "outputs": [
    {
     "name": "stdout",
     "output_type": "stream",
     "text": [
      "     age     sex  children  smoker      charges\n",
      "0     28    male         3       0   4449.46200\n",
      "1     33    male         0       0  21984.47061\n",
      "2     32    male         0       0   3866.85520\n",
      "3     31  female         0       0   3756.62160\n",
      "4     46  female         1       0   8240.58960\n",
      "..   ...     ...       ...     ...          ...\n",
      "818   51    male         1       0   9377.90470\n",
      "819   52    male         2       0  10325.20600\n",
      "820   57  female         2       0  12629.16560\n",
      "821   52  female         3       0  11411.68500\n",
      "822   50    male         3       0  10600.54830\n",
      "\n",
      "[823 rows x 5 columns]\n"
     ]
    }
   ],
   "source": [
    "print(data)"
   ]
  },
  {
   "cell_type": "code",
   "execution_count": null,
   "id": "af1120c4-bc96-4705-8539-6581db753df3",
   "metadata": {},
   "outputs": [],
   "source": []
  }
 ],
 "metadata": {
  "kernelspec": {
   "display_name": "Python 3 (ipykernel)",
   "language": "python",
   "name": "python3"
  },
  "language_info": {
   "codemirror_mode": {
    "name": "ipython",
    "version": 3
   },
   "file_extension": ".py",
   "mimetype": "text/x-python",
   "name": "python",
   "nbconvert_exporter": "python",
   "pygments_lexer": "ipython3",
   "version": "3.8.5"
  }
 },
 "nbformat": 4,
 "nbformat_minor": 5
}
