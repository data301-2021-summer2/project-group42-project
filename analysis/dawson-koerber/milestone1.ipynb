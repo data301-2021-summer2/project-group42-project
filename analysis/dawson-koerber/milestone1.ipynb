{
 "cells": [
  {
   "cell_type": "markdown",
   "metadata": {},
   "source": [
    "##  Task 4: Load your dataset from a file or URL\n",
    "\n",
    "For this task, you should create a Jupyter notebook and load your data into a dataframe using Pandas.\n",
    "\n",
    "If you are working in a group, each person in the team must include a separate Jupyter Notebook (.ipynb file) demonstrating proficiency with the things we ask you to do for each milestone.\n",
    "\n",
    "Remember that others will be running your analysis notebook so it’s important that the data is accessible to them.\n",
    "\n",
    "If your dataset isn’t accessible as a URL, make sure to commit it directly into your repo.\n",
    "\n",
    "If your dataset is only accessible as a URL, add it to this README: data/README.md\n",
    "\n",
    "You should name your files as follows to keep things organized: analysis/firstname1/milestone1.ipynb"
   ]
  },
  {
   "cell_type": "code",
   "execution_count": null,
   "metadata": {},
   "outputs": [],
   "source": [
    "import pandas as pd\n",
    "\n",
    "#df = pd.read_csv(\"data_name.csv\")\n",
    "\n",
    "df.head()"
   ]
  }
 ],
 "metadata": {
  "kernelspec": {
   "display_name": "Python 3",
   "language": "python",
   "name": "python3"
  },
  "language_info": {
   "codemirror_mode": {
    "name": "ipython",
    "version": 3
   },
   "file_extension": ".py",
   "mimetype": "text/x-python",
   "name": "python",
   "nbconvert_exporter": "python",
   "pygments_lexer": "ipython3",
   "version": "3.8.5"
  }
 },
 "nbformat": 4,
 "nbformat_minor": 4
}
