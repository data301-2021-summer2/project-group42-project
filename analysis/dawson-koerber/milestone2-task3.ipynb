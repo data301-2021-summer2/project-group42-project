{
 "cells": [
  {
   "cell_type": "markdown",
   "metadata": {},
   "source": [
    "## Task 3: Conduct an Exploratory Data Analysis (EDA) on your dataset\n",
    "As a rough guideline, each EDA should:\n",
    "\n",
    "- Involve at least two columns/features of your dataset\n",
    "\n",
    "- At least three useful visualizations created by you (the more the merrier (within reason)!)\n",
    "\n",
    "- Some notes and commentary to help others see observations you find interesting.\n",
    "\n",
    "### Research Question:\n",
    "What is the average increase in cost smokers pay as compared to their non-smoking counterpoint?"
   ]
  },
  {
   "cell_type": "code",
   "execution_count": 1,
   "metadata": {},
   "outputs": [],
   "source": [
    "#Libraries\n",
    "import pandas as pd\n",
    "import seaborn as sns\n",
    "import numpy as np\n",
    "import os\n",
    "import matplotlib.pyplot as plt\n",
    "import statistics as stat"
   ]
  },
  {
   "cell_type": "code",
   "execution_count": 2,
   "metadata": {},
   "outputs": [
    {
     "data": {
      "text/html": [
       "<div>\n",
       "<style scoped>\n",
       "    .dataframe tbody tr th:only-of-type {\n",
       "        vertical-align: middle;\n",
       "    }\n",
       "\n",
       "    .dataframe tbody tr th {\n",
       "        vertical-align: top;\n",
       "    }\n",
       "\n",
       "    .dataframe thead th {\n",
       "        text-align: right;\n",
       "    }\n",
       "</style>\n",
       "<table border=\"1\" class=\"dataframe\">\n",
       "  <thead>\n",
       "    <tr style=\"text-align: right;\">\n",
       "      <th></th>\n",
       "      <th>age</th>\n",
       "      <th>sex</th>\n",
       "      <th>bmi</th>\n",
       "      <th>smoker</th>\n",
       "      <th>charges</th>\n",
       "    </tr>\n",
       "  </thead>\n",
       "  <tbody>\n",
       "    <tr>\n",
       "      <th>0</th>\n",
       "      <td>19</td>\n",
       "      <td>female</td>\n",
       "      <td>27.900</td>\n",
       "      <td>yes</td>\n",
       "      <td>16884.92400</td>\n",
       "    </tr>\n",
       "    <tr>\n",
       "      <th>1</th>\n",
       "      <td>18</td>\n",
       "      <td>male</td>\n",
       "      <td>33.770</td>\n",
       "      <td>no</td>\n",
       "      <td>1725.55230</td>\n",
       "    </tr>\n",
       "    <tr>\n",
       "      <th>2</th>\n",
       "      <td>28</td>\n",
       "      <td>male</td>\n",
       "      <td>33.000</td>\n",
       "      <td>no</td>\n",
       "      <td>4449.46200</td>\n",
       "    </tr>\n",
       "    <tr>\n",
       "      <th>3</th>\n",
       "      <td>33</td>\n",
       "      <td>male</td>\n",
       "      <td>22.705</td>\n",
       "      <td>no</td>\n",
       "      <td>21984.47061</td>\n",
       "    </tr>\n",
       "    <tr>\n",
       "      <th>4</th>\n",
       "      <td>32</td>\n",
       "      <td>male</td>\n",
       "      <td>28.880</td>\n",
       "      <td>no</td>\n",
       "      <td>3866.85520</td>\n",
       "    </tr>\n",
       "    <tr>\n",
       "      <th>...</th>\n",
       "      <td>...</td>\n",
       "      <td>...</td>\n",
       "      <td>...</td>\n",
       "      <td>...</td>\n",
       "      <td>...</td>\n",
       "    </tr>\n",
       "    <tr>\n",
       "      <th>1313</th>\n",
       "      <td>50</td>\n",
       "      <td>male</td>\n",
       "      <td>30.970</td>\n",
       "      <td>no</td>\n",
       "      <td>10600.54830</td>\n",
       "    </tr>\n",
       "    <tr>\n",
       "      <th>1314</th>\n",
       "      <td>18</td>\n",
       "      <td>female</td>\n",
       "      <td>31.920</td>\n",
       "      <td>no</td>\n",
       "      <td>2205.98080</td>\n",
       "    </tr>\n",
       "    <tr>\n",
       "      <th>1315</th>\n",
       "      <td>18</td>\n",
       "      <td>female</td>\n",
       "      <td>36.850</td>\n",
       "      <td>no</td>\n",
       "      <td>1629.83350</td>\n",
       "    </tr>\n",
       "    <tr>\n",
       "      <th>1316</th>\n",
       "      <td>21</td>\n",
       "      <td>female</td>\n",
       "      <td>25.800</td>\n",
       "      <td>no</td>\n",
       "      <td>2007.94500</td>\n",
       "    </tr>\n",
       "    <tr>\n",
       "      <th>1317</th>\n",
       "      <td>61</td>\n",
       "      <td>female</td>\n",
       "      <td>29.070</td>\n",
       "      <td>yes</td>\n",
       "      <td>29141.36030</td>\n",
       "    </tr>\n",
       "  </tbody>\n",
       "</table>\n",
       "<p>1318 rows × 5 columns</p>\n",
       "</div>"
      ],
      "text/plain": [
       "      age     sex     bmi smoker      charges\n",
       "0      19  female  27.900    yes  16884.92400\n",
       "1      18    male  33.770     no   1725.55230\n",
       "2      28    male  33.000     no   4449.46200\n",
       "3      33    male  22.705     no  21984.47061\n",
       "4      32    male  28.880     no   3866.85520\n",
       "...   ...     ...     ...    ...          ...\n",
       "1313   50    male  30.970     no  10600.54830\n",
       "1314   18  female  31.920     no   2205.98080\n",
       "1315   18  female  36.850     no   1629.83350\n",
       "1316   21  female  25.800     no   2007.94500\n",
       "1317   61  female  29.070    yes  29141.36030\n",
       "\n",
       "[1318 rows x 5 columns]"
      ]
     },
     "execution_count": 2,
     "metadata": {},
     "output_type": "execute_result"
    }
   ],
   "source": [
    "#Load wrangled data\n",
    "from scriptz import project_functions as pf\n",
    "df = pf.wranglemania2K21(\"../../data/raw/insurance.csv\")\n",
    "df"
   ]
  },
  {
   "cell_type": "markdown",
   "metadata": {},
   "source": [
    "### EDA 1: Does smoking directly affest one's BMI?"
   ]
  },
  {
   "cell_type": "code",
   "execution_count": 8,
   "metadata": {},
   "outputs": [
    {
     "data": {
      "image/png": "[encoded data removed]",
      "text/plain": [
       "<Figure size 432x288 with 1 Axes>"
      ]
     },
     "metadata": {
      "needs_background": "light"
     },
     "output_type": "display_data"
    }
   ],
   "source": [
    "#Shows the distribution of BMI amongst smokers and non-smokers\n",
    "sns.boxplot(x='bmi', y='smoker', data=df)\n",
    "plt.title(\"Comparison of BMIs of of Smokers & Non-smokers\")\n",
    "plt.show()"
   ]
  },
  {
   "cell_type": "markdown",
   "metadata": {},
   "source": [
    "It would appear that smoker's may have a slightly higher BMI, but this isn't significant enought to confirm.\n",
    "For our purposes, we'll assuume that smoking does not affect one's BMI."
   ]
  },
  {
   "cell_type": "markdown",
   "metadata": {},
   "source": [
    "### EDA 2: Do smokers have higher medical costs?"
   ]
  },
  {
   "cell_type": "code",
   "execution_count": 9,
   "metadata": {},
   "outputs": [
    {
     "data": {
      "image/png": "[encoded data removed]",
      "text/plain": [
       "<Figure size 432x288 with 1 Axes>"
      ]
     },
     "metadata": {
      "needs_background": "light"
     },
     "output_type": "display_data"
    }
   ],
   "source": [
    "#Shows the distribution of medical charges between smokers and non-smokers\n",
    "sns.histplot(data=df, x=\"charges\", hue =\"smoker\")\n",
    "plt.title(\"Distribution of Medical Charges of Smokers & Non-smokers (BMI > 45)\")\n",
    "plt.show()"
   ]
  },
  {
   "cell_type": "markdown",
   "metadata": {},
   "source": [
    "It is clear that non-smokers have medical charges predominantly below 10000 dollars.\n",
    "On the other hand, a smoker's medical charges begin at around 10000 dollars and only increase.\n",
    "It's fair to say that there is a direct correlation between smoking and medical charges."
   ]
  },
  {
   "cell_type": "markdown",
   "metadata": {},
   "source": [
    "### EDA 3: What does the average smoker and non-smoker pay in medical charges?"
   ]
  },
  {
   "cell_type": "code",
   "execution_count": 10,
   "metadata": {},
   "outputs": [
    {
     "data": {
      "image/png": "[encoded data removed]",
      "text/plain": [
       "<Figure size 432x288 with 1 Axes>"
      ]
     },
     "metadata": {
      "needs_background": "light"
     },
     "output_type": "display_data"
    }
   ],
   "source": [
    "#Displays average medical charges for smokers and non-smokers\n",
    "sns.barplot(x='smoker',y='charges',data=df, estimator=np.average)\n",
    "plt.title(\"Average Medical Costs of Smokers & Non-smokers (BMI > 45)\")\n",
    "plt.show()"
   ]
  },
  {
   "cell_type": "markdown",
   "metadata": {},
   "source": [
    "This further cofirms our results from EDA 2. It's obvious that the avearge medical charges\n",
    "for a smoker are about 20000 dollars higher than that of a non-smoker."
   ]
  },
  {
   "cell_type": "markdown",
   "metadata": {},
   "source": [
    "#### EDA 3.1: Further analysis on medical charges between smokers and non-smokers."
   ]
  },
  {
   "cell_type": "code",
   "execution_count": 6,
   "metadata": {},
   "outputs": [
    {
     "name": "stdout",
     "output_type": "stream",
     "text": [
      "Smokers have average medical charges of 31744 dollars.\n",
      "Non-smokers have average medical charges of 8451 dollars.\n",
      "Smokers pay 23293 dollars more on average in medical charges than non-smokers.\n"
     ]
    }
   ],
   "source": [
    "#Calculating the exact average medical cost between smokers and non-smokers\n",
    "df_smoker = df[df[\"smoker\"]== \"yes\"]\n",
    "df_smoker = int(np.mean(df_smoker['charges']))\n",
    "\n",
    "df_non_smoker = df[df[\"smoker\"]== \"no\"]\n",
    "df_non_smoker = int(np.mean(df_non_smoker['charges']))\n",
    "\n",
    "difference = df_smoker - df_non_smoker\n",
    "\n",
    "print(f\"Smokers have average medical charges of {df_smoker} dollars.\")\n",
    "print(f\"Non-smokers have average medical charges of {df_non_smoker} dollars.\")\n",
    "print(f\"Smokers pay {difference} dollars more on average in medical charges than non-smokers.\")"
   ]
  }
 ],
 "metadata": {
  "kernelspec": {
   "display_name": "Python 3",
   "language": "python",
   "name": "python3"
  },
  "language_info": {
   "codemirror_mode": {
    "name": "ipython",
    "version": 3
   },
   "file_extension": ".py",
   "mimetype": "text/x-python",
   "name": "python",
   "nbconvert_exporter": "python",
   "pygments_lexer": "ipython3",
   "version": "3.8.5"
  }
 },
 "nbformat": 4,
 "nbformat_minor": 4
}
